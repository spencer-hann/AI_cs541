{
 "cells": [
  {
   "cell_type": "markdown",
   "metadata": {},
   "source": [
    "# Artificial Intelligence: Project 3\n",
    "Spencer Hann  \n",
    "CS 541 | Winter 2019"
   ]
  },
  {
   "cell_type": "code",
   "execution_count": 1,
   "metadata": {},
   "outputs": [],
   "source": [
    "import numpy as np\n",
    "import matplotlib.pyplot as plt\n",
    "from scipy.stats import norm"
   ]
  },
  {
   "cell_type": "code",
   "execution_count": 2,
   "metadata": {},
   "outputs": [],
   "source": [
    "%load_ext cython"
   ]
  },
  {
   "cell_type": "code",
   "execution_count": 3,
   "metadata": {},
   "outputs": [],
   "source": [
    "%%cython\n",
    "\n",
    "# cython: boundscheck=False, language_level=3\n",
    "\n",
    "import numpy as np\n",
    "cimport numpy as np\n",
    "import cython\n",
    "import sys\n",
    "\n",
    "from tqdm import tqdm\n",
    "from libc.stdlib cimport rand, RAND_MAX\n",
    "\n",
    "######################################################################################\n",
    "##                                                                                  ##\n",
    "##                              MACROS/MODEL PARAMETERS                             ##\n",
    "##                                                                                  ##\n",
    "######################################################################################\n",
    "DEF DEBUG = 0\n",
    "\n",
    "DEF world_dim = 10 # world is nxn\n",
    "DEF num_sensors = 5\n",
    "DEF num_actions = 5\n",
    "DEF pick_up_can = 0\n",
    "DEF north = 1\n",
    "DEF south = 2\n",
    "DEF east = 3\n",
    "DEF west = 4\n",
    "DEF can = 1\n",
    "DEF wall = 2\n",
    "DEF clear = 0\n",
    "DEF max_state_index = 21211\n",
    "\n",
    "DEF N = 5000 # episodes\n",
    "DEF M = 200 # steps per episode\n",
    "\n",
    "DEF can_reward = +10 # reward for picking up a \"can\"\n",
    "DEF wall_reward = -1 # negative reward for crashing into a wall\n",
    "DEF action_tax = 0\n",
    "\n",
    "DEF mu = 0.025     # learning rate\n",
    "DEF gamma = 0.0001  # discount factor\n",
    "\n",
    "DEF epsilon_init = 1.0\n",
    "DEF epsilon_final = 0.1\n",
    "DEF epsilon_decay_rate = 0.01\n",
    "DEF epsilon_decay_at_epoch = 50\n",
    "\n",
    "ctypedef unsigned short state # shorts are at least 16 bits, meaning they\n",
    "                              # support 5 decimal places. the robot has \n",
    "                              # 5 sensors, so each decimal place\n",
    "                              # represents one sensor's reading [0-2]\n",
    "                              # for a total of 3^5 = 243 possible states,\n",
    "                              # though not all state are actually possible.\n",
    "                              # not all sensors can be reading a wall (2)\n",
    "\n",
    "#################################################################\n",
    "##                                                             ##\n",
    "##                       GLOBALS                               ##\n",
    "##                                                             ##\n",
    "#################################################################\n",
    "\n",
    "cdef epsilon = epsilon_init\n",
    "\n",
    "cdef np.ndarray world\n",
    "\n",
    "cdef (size_t,size_t) Robby\n",
    "cdef double[:,::1] Qmatrix = None\n",
    "IF DEBUG:\n",
    "    cdef dict action_names = {pick_up_can:\"pick up can\",\n",
    "                             north:\"move north\",\n",
    "                             south:\"move south\",\n",
    "                             east:\"move east\",\n",
    "                             west:\"move west\"}\n",
    "\n",
    "#########################################################\n",
    "##                                                     ##\n",
    "##            INITIALIZATION FUNCTIONS                 ##\n",
    "##                                                     ##\n",
    "#########################################################\n",
    "\n",
    "cdef void init_world():\n",
    "    global world\n",
    "    # 50-50 chance of a 1 or zero\n",
    "    # +2 to make room for walls\n",
    "    world = np.random.randint(0,2, size=(world_dim+2, world_dim+2), dtype=np.intc)\n",
    "    # put up walls\n",
    "    world[:,0] = 2\n",
    "    world[0,:] = 2\n",
    "    world[:,-1] = 2\n",
    "    world[-1,:] = 2\n",
    "    \n",
    "cdef void init_Qmatrix():\n",
    "    global Qmatrix\n",
    "    Qmatrix = np.zeros((max_state_index+1, num_actions))\n",
    "    \n",
    "cdef void init_Robby():\n",
    "    global Robby\n",
    "    Robby = tuple(np.random.randint(1, world_dim, size=2, dtype=np.uintp))\n",
    "    \n",
    "cdef void init_episode():\n",
    "#     np.random.seed(42)\n",
    "    if Qmatrix is None:\n",
    "        init_Qmatrix()\n",
    "    init_world()\n",
    "    init_Robby()\n",
    "\n",
    "    \n",
    "########################################################\n",
    "##                                                    ##\n",
    "##                 HELPER FUNCTIONS                   ##\n",
    "##                                                    ##\n",
    "########################################################\n",
    "\n",
    "cdef int act(int a):\n",
    "# executes action a if possible, returns reward (int)\n",
    "    global Robby\n",
    "    cdef size_t i,j\n",
    "    i,j = Robby\n",
    "    \n",
    "    if a == pick_up_can:\n",
    "        if world[i,j] == can:\n",
    "            world[i,j] = clear\n",
    "            return can_reward + action_tax\n",
    "        return action_tax\n",
    "    \n",
    "    if a == north:   i -= 1\n",
    "    elif a == south: i += 1\n",
    "    elif a == east:  j += 1\n",
    "    else:            j -= 1\n",
    "    \n",
    "    if world[i,j] == wall:\n",
    "        return wall_reward + action_tax\n",
    "    \n",
    "    Robby = i,j\n",
    "    return action_tax\n",
    "    \n",
    "cdef state get_state():\n",
    "    cdef size_t i,j\n",
    "    cdef state s\n",
    "    \n",
    "    i,j = Robby\n",
    "    IF DEBUG:\n",
    "        assert i > 0 and i < world_dim+1, \"Robby's lost\"\n",
    "        assert j > 0 and j < world_dim+1, \"Robby's lost\"\n",
    "\n",
    "    s = world[i,j] # current\n",
    "    s += world[i-1,j] * 10**north\n",
    "    s += world[i+1,j] * 10**south\n",
    "    s += world[i,j+1] * 10**east\n",
    "    s += world[i,j-1] * 10**west\n",
    "    \n",
    "    IF DEBUG: assert s <= max_state_index\n",
    "    \n",
    "    return s\n",
    "\n",
    "IF DEBUG:\n",
    "    cdef unsigned int exploration = 0, exploitation = 0\n",
    "cdef int e_greedy_action(state s):\n",
    "    cdef int r = rand()\n",
    "    if r < epsilon:#RAND_MAX * epsilon: # random\n",
    "        IF DEBUG:\n",
    "            global exploration\n",
    "            exploration += 1\n",
    "        return r % num_actions\n",
    "    else:\n",
    "        IF DEBUG:\n",
    "            global exploitation\n",
    "            exploitation += 1\n",
    "        return np.argmax(Qmatrix[s])\n",
    "    \n",
    "def display_world():\n",
    "    cdef int tmp = world[Robby]\n",
    "    world[Robby] = 8 # because 8 looks like a tiny robot\n",
    "    print(np.asarray(world))\n",
    "    world[Robby] = tmp\n",
    "        \n",
    "        \n",
    "###############################################################\n",
    "##                                                           ##\n",
    "##                  TRAINING/TESTING                         ##\n",
    "##                                                           ##\n",
    "###############################################################\n",
    "    \n",
    "cdef int run_episode(int time_steps=M):\n",
    "    cdef:\n",
    "        int reward\n",
    "        int total_reward = 0\n",
    "        int time_step\n",
    "        int a\n",
    "        state s\n",
    "        state s_prime\n",
    "\n",
    "    init_episode()\n",
    "    s_prime = get_state()\n",
    "    \n",
    "    for time_step in range(time_steps):\n",
    "        s = s_prime\n",
    "        a = e_greedy_action(s)\n",
    "        IF DEBUG > 2:\n",
    "            print(\"\\nTime step:\",time_step)\n",
    "            print(Robby, action_names[a])\n",
    "            display_world()\n",
    "      \n",
    "        reward = act(a)\n",
    "        total_reward += reward\n",
    "        IF DEBUG > 2: print(\"rewards:\",reward,'/',total_reward)\n",
    "        \n",
    "        s_prime = get_state()\n",
    "        \n",
    "        Qmatrix[s,a] += mu*(reward + gamma*max(Qmatrix[s_prime]) - Qmatrix[s,a])\n",
    "    \n",
    "    return total_reward\n",
    "\n",
    "def run_epochs(int epochs=N, bint test=False):\n",
    "    global epsilon\n",
    "    cdef:\n",
    "        int epoch\n",
    "        np.ndarray rewards = np.empty(N,dtype=np.intc)\n",
    "    IF DEBUG:\n",
    "        global exploration, exploitation\n",
    "        exploration = 0\n",
    "        exploitation = 0\n",
    "        _iter = range(epochs)\n",
    "    ELSE: # only use `tqdm` if not printing from inside loop\n",
    "        _iter = tqdm(range(epochs))\n",
    "        \n",
    "    if test: epsilon = epsilon_final\n",
    "    else: epsilon = epsilon_init\n",
    "        \n",
    "    for epoch in _iter:\n",
    "        if epoch % epsilon_decay_at_epoch == 0:\n",
    "            if epsilon > epsilon_final: epsilon -= epsilon_decay_rate                \n",
    "\n",
    "        rewards[epoch] = run_episode()\n",
    "    \n",
    "    IF DEBUG: print(\"Exploration : Exploitation  \",exploration,':',exploitation)\n",
    "    \n",
    "    return rewards"
   ]
  },
  {
   "cell_type": "markdown",
   "metadata": {},
   "source": [
    "## Training phase"
   ]
  },
  {
   "cell_type": "code",
   "execution_count": 4,
   "metadata": {},
   "outputs": [
    {
     "name": "stderr",
     "output_type": "stream",
     "text": [
      "100%|██████████| 5000/5000 [00:23<00:00, 215.18it/s]"
     ]
    },
    {
     "name": "stdout",
     "output_type": "stream",
     "text": [
      "CPU times: user 24.6 s, sys: 1.83 s, total: 26.4 s\n",
      "Wall time: 23.2 s\n"
     ]
    },
    {
     "name": "stderr",
     "output_type": "stream",
     "text": [
      "\n"
     ]
    }
   ],
   "source": [
    "%time train_rewards = run_epochs()"
   ]
  },
  {
   "cell_type": "code",
   "execution_count": 5,
   "metadata": {},
   "outputs": [
    {
     "data": {
      "image/png": "[encoded data removed]",
      "text/plain": [
       "<Figure size 432x288 with 1 Axes>"
      ]
     },
     "metadata": {
      "needs_background": "light"
     },
     "output_type": "display_data"
    }
   ],
   "source": [
    "plt.plot(train_rewards[::100])\n",
    "plt.title(\"Training Rewards\")\n",
    "plt.xlabel(\"100th episode\")\n",
    "plt.ylabel(\"total_reward\")\n",
    "plt.grid()"
   ]
  },
  {
   "cell_type": "markdown",
   "metadata": {},
   "source": [
    "## Testing phase"
   ]
  },
  {
   "cell_type": "code",
   "execution_count": 6,
   "metadata": {},
   "outputs": [
    {
     "name": "stderr",
     "output_type": "stream",
     "text": [
      "100%|██████████| 5000/5000 [00:24<00:00, 207.56it/s]"
     ]
    },
    {
     "name": "stdout",
     "output_type": "stream",
     "text": [
      "CPU times: user 25.4 s, sys: 2 s, total: 27.4 s\n",
      "Wall time: 24.1 s\n"
     ]
    },
    {
     "name": "stderr",
     "output_type": "stream",
     "text": [
      "\n"
     ]
    }
   ],
   "source": [
    "%time test_rewards = run_epochs(test=True)"
   ]
  },
  {
   "cell_type": "code",
   "execution_count": 7,
   "metadata": {},
   "outputs": [
    {
     "data": {
      "image/png": "[encoded data removed]",
      "text/plain": [
       "<Figure size 432x288 with 1 Axes>"
      ]
     },
     "metadata": {
      "needs_background": "light"
     },
     "output_type": "display_data"
    }
   ],
   "source": [
    "plt.plot(train_rewards[::100], label=\"Training\", alpha=.5)\n",
    "plt.plot(test_rewards[::100], label=\"Testing\")\n",
    "plt.legend()\n",
    "plt.xlabel(\"100th episode\")\n",
    "plt.ylabel(\"total_reward\")\n",
    "plt.grid()"
   ]
  },
  {
   "cell_type": "code",
   "execution_count": 8,
   "metadata": {},
   "outputs": [
    {
     "name": "stdout",
     "output_type": "stream",
     "text": [
      "Average episode reward: 4.85\n",
      "Reward std deviation: 5.00\n"
     ]
    },
    {
     "data": {
      "image/png": "[encoded data removed]",
      "text/plain": [
       "<Figure size 432x288 with 1 Axes>"
      ]
     },
     "metadata": {
      "needs_background": "light"
     },
     "output_type": "display_data"
    }
   ],
   "source": [
    "mu = np.mean(test_rewards)\n",
    "sigma = np.std(test_rewards)\n",
    "\n",
    "print(f\"Average episode reward: {mu:.2f}\")\n",
    "print(f\"Reward std deviation: {sigma:.2f}\")\n",
    "\n",
    "x = np.linspace(mu - 3*sigma, mu + 3*sigma, 100)\n",
    "plt.plot(x, norm.pdf(x, mu, sigma), alpha=.6)\n",
    "plt.hist(test_rewards, density=True)\n",
    "plt.show()"
   ]
  },
  {
   "cell_type": "code",
   "execution_count": null,
   "metadata": {},
   "outputs": [],
   "source": []
  },
  {
   "cell_type": "code",
   "execution_count": null,
   "metadata": {},
   "outputs": [],
   "source": []
  },
  {
   "cell_type": "code",
   "execution_count": null,
   "metadata": {},
   "outputs": [],
   "source": []
  },
  {
   "cell_type": "code",
   "execution_count": null,
   "metadata": {},
   "outputs": [],
   "source": []
  },
  {
   "cell_type": "code",
   "execution_count": null,
   "metadata": {},
   "outputs": [],
   "source": []
  },
  {
   "cell_type": "code",
   "execution_count": null,
   "metadata": {},
   "outputs": [],
   "source": []
  },
  {
   "cell_type": "code",
   "execution_count": null,
   "metadata": {},
   "outputs": [],
   "source": []
  },
  {
   "cell_type": "code",
   "execution_count": null,
   "metadata": {},
   "outputs": [],
   "source": []
  },
  {
   "cell_type": "code",
   "execution_count": null,
   "metadata": {},
   "outputs": [],
   "source": []
  },
  {
   "cell_type": "code",
   "execution_count": null,
   "metadata": {},
   "outputs": [],
   "source": []
  },
  {
   "cell_type": "code",
   "execution_count": null,
   "metadata": {},
   "outputs": [],
   "source": []
  },
  {
   "cell_type": "code",
   "execution_count": null,
   "metadata": {},
   "outputs": [],
   "source": []
  },
  {
   "cell_type": "code",
   "execution_count": null,
   "metadata": {},
   "outputs": [],
   "source": []
  }
 ],
 "metadata": {
  "kernelspec": {
   "display_name": "Python 3",
   "language": "python",
   "name": "python3"
  },
  "language_info": {
   "codemirror_mode": {
    "name": "ipython",
    "version": 3
   },
   "file_extension": ".py",
   "mimetype": "text/x-python",
   "name": "python",
   "nbconvert_exporter": "python",
   "pygments_lexer": "ipython3",
   "version": "3.6.7"
  }
 },
 "nbformat": 4,
 "nbformat_minor": 2
}
